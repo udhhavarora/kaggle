{
 "cells": [
  {
   "cell_type": "code",
   "execution_count": 1,
   "metadata": {
    "_cell_guid": "b1076dfc-b9ad-4769-8c92-a6c4dae69d19",
    "_uuid": "8f2839f25d086af736a60e9eeb907d3b93b6e0e5",
    "execution": {
     "iopub.execute_input": "2020-08-23T18:02:01.821344Z",
     "iopub.status.busy": "2020-08-23T18:02:01.820636Z",
     "iopub.status.idle": "2020-08-23T18:02:01.840555Z",
     "shell.execute_reply": "2020-08-23T18:02:01.839507Z"
    },
    "papermill": {
     "duration": 0.034012,
     "end_time": "2020-08-23T18:02:01.840736",
     "exception": false,
     "start_time": "2020-08-23T18:02:01.806724",
     "status": "completed"
    },
    "tags": []
   },
   "outputs": [
    {
     "name": "stdout",
     "output_type": "stream",
     "text": [
      "/kaggle/input/social-network-ads/Social_Network_Ads.csv\n"
     ]
    }
   ],
   "source": [
    "# This Python 3 environment comes with many helpful analytics libraries installed\n",
    "# It is defined by the kaggle/python Docker image: https://github.com/kaggle/docker-python\n",
    "# For example, here's several helpful packages to load\n",
    "\n",
    "import numpy as np # linear algebra\n",
    "import pandas as pd # data processing, CSV file I/O (e.g. pd.read_csv)\n",
    "\n",
    "# Input data files are available in the read-only \"../input/\" directory\n",
    "# For example, running this (by clicking run or pressing Shift+Enter) will list all files under the input directory\n",
    "\n",
    "import os\n",
    "for dirname, _, filenames in os.walk('/kaggle/input'):\n",
    "    for filename in filenames:\n",
    "        print(os.path.join(dirname, filename))\n",
    "\n",
    "# You can write up to 5GB to the current directory (/kaggle/working/) that gets preserved as output when you create a version using \"Save & Run All\" \n",
    "# You can also write temporary files to /kaggle/temp/, but they won't be saved outside of the current session"
   ]
  },
  {
   "cell_type": "markdown",
   "execution_count": null,
   "metadata": {
    "papermill": {
     "duration": 0.005822,
     "end_time": "2020-08-23T18:02:01.854546",
     "exception": false,
     "start_time": "2020-08-23T18:02:01.848724",
     "status": "completed"
    },
    "tags": []
   },
   "source": [
    "# Import the libraries"
   ]
  },
  {
   "cell_type": "code",
   "execution_count": 2,
   "metadata": {
    "_cell_guid": "79c7e3d0-c299-4dcb-8224-4455121ee9b0",
    "_uuid": "d629ff2d2480ee46fbb7e2d37f6b5fab8052498a",
    "execution": {
     "iopub.execute_input": "2020-08-23T18:02:01.875812Z",
     "iopub.status.busy": "2020-08-23T18:02:01.874824Z",
     "iopub.status.idle": "2020-08-23T18:02:03.110118Z",
     "shell.execute_reply": "2020-08-23T18:02:03.109105Z"
    },
    "papermill": {
     "duration": 1.249577,
     "end_time": "2020-08-23T18:02:03.110354",
     "exception": false,
     "start_time": "2020-08-23T18:02:01.860777",
     "status": "completed"
    },
    "tags": []
   },
   "outputs": [],
   "source": [
    "import pandas as pd\n",
    "import numpy as np\n",
    "\n",
    "from sklearn.svm import SVC\n",
    "from sklearn.model_selection import train_test_split\n",
    "from sklearn.preprocessing import StandardScaler\n",
    "from sklearn.metrics import confusion_matrix, accuracy_score\n",
    "from sklearn.model_selection import cross_val_score\n",
    "from sklearn.model_selection import GridSearchCV"
   ]
  },
  {
   "cell_type": "markdown",
   "execution_count": null,
   "metadata": {
    "papermill": {
     "duration": 0.006603,
     "end_time": "2020-08-23T18:02:03.123445",
     "exception": false,
     "start_time": "2020-08-23T18:02:03.116842",
     "status": "completed"
    },
    "tags": []
   },
   "source": [
    "# Importing the dataset"
   ]
  },
  {
   "cell_type": "code",
   "execution_count": 3,
   "metadata": {
    "execution": {
     "iopub.execute_input": "2020-08-23T18:02:03.146591Z",
     "iopub.status.busy": "2020-08-23T18:02:03.145894Z",
     "iopub.status.idle": "2020-08-23T18:02:03.172931Z",
     "shell.execute_reply": "2020-08-23T18:02:03.172401Z"
    },
    "papermill": {
     "duration": 0.041313,
     "end_time": "2020-08-23T18:02:03.173043",
     "exception": false,
     "start_time": "2020-08-23T18:02:03.131730",
     "status": "completed"
    },
    "tags": []
   },
   "outputs": [
    {
     "data": {
      "text/html": [
       "<div>\n",
       "<style scoped>\n",
       "    .dataframe tbody tr th:only-of-type {\n",
       "        vertical-align: middle;\n",
       "    }\n",
       "\n",
       "    .dataframe tbody tr th {\n",
       "        vertical-align: top;\n",
       "    }\n",
       "\n",
       "    .dataframe thead th {\n",
       "        text-align: right;\n",
       "    }\n",
       "</style>\n",
       "<table border=\"1\" class=\"dataframe\">\n",
       "  <thead>\n",
       "    <tr style=\"text-align: right;\">\n",
       "      <th></th>\n",
       "      <th>User ID</th>\n",
       "      <th>Gender</th>\n",
       "      <th>Age</th>\n",
       "      <th>EstimatedSalary</th>\n",
       "      <th>Purchased</th>\n",
       "    </tr>\n",
       "  </thead>\n",
       "  <tbody>\n",
       "    <tr>\n",
       "      <th>0</th>\n",
       "      <td>15624510</td>\n",
       "      <td>Male</td>\n",
       "      <td>19</td>\n",
       "      <td>19000</td>\n",
       "      <td>0</td>\n",
       "    </tr>\n",
       "    <tr>\n",
       "      <th>1</th>\n",
       "      <td>15810944</td>\n",
       "      <td>Male</td>\n",
       "      <td>35</td>\n",
       "      <td>20000</td>\n",
       "      <td>0</td>\n",
       "    </tr>\n",
       "    <tr>\n",
       "      <th>2</th>\n",
       "      <td>15668575</td>\n",
       "      <td>Female</td>\n",
       "      <td>26</td>\n",
       "      <td>43000</td>\n",
       "      <td>0</td>\n",
       "    </tr>\n",
       "    <tr>\n",
       "      <th>3</th>\n",
       "      <td>15603246</td>\n",
       "      <td>Female</td>\n",
       "      <td>27</td>\n",
       "      <td>57000</td>\n",
       "      <td>0</td>\n",
       "    </tr>\n",
       "    <tr>\n",
       "      <th>4</th>\n",
       "      <td>15804002</td>\n",
       "      <td>Male</td>\n",
       "      <td>19</td>\n",
       "      <td>76000</td>\n",
       "      <td>0</td>\n",
       "    </tr>\n",
       "  </tbody>\n",
       "</table>\n",
       "</div>"
      ],
      "text/plain": [
       "    User ID  Gender  Age  EstimatedSalary  Purchased\n",
       "0  15624510    Male   19            19000          0\n",
       "1  15810944    Male   35            20000          0\n",
       "2  15668575  Female   26            43000          0\n",
       "3  15603246  Female   27            57000          0\n",
       "4  15804002    Male   19            76000          0"
      ]
     },
     "execution_count": 3,
     "metadata": {},
     "output_type": "execute_result"
    }
   ],
   "source": [
    "df = pd.read_csv('../input/social-network-ads/Social_Network_Ads.csv')\n",
    "df.head()"
   ]
  },
  {
   "cell_type": "code",
   "execution_count": 4,
   "metadata": {
    "execution": {
     "iopub.execute_input": "2020-08-23T18:02:03.191709Z",
     "iopub.status.busy": "2020-08-23T18:02:03.190742Z",
     "iopub.status.idle": "2020-08-23T18:02:03.194763Z",
     "shell.execute_reply": "2020-08-23T18:02:03.194246Z"
    },
    "papermill": {
     "duration": 0.015457,
     "end_time": "2020-08-23T18:02:03.194882",
     "exception": false,
     "start_time": "2020-08-23T18:02:03.179425",
     "status": "completed"
    },
    "tags": []
   },
   "outputs": [
    {
     "data": {
      "text/plain": [
       "(400, 5)"
      ]
     },
     "execution_count": 4,
     "metadata": {},
     "output_type": "execute_result"
    }
   ],
   "source": [
    "df.shape"
   ]
  },
  {
   "cell_type": "code",
   "execution_count": 5,
   "metadata": {
    "execution": {
     "iopub.execute_input": "2020-08-23T18:02:03.213340Z",
     "iopub.status.busy": "2020-08-23T18:02:03.212603Z",
     "iopub.status.idle": "2020-08-23T18:02:03.215864Z",
     "shell.execute_reply": "2020-08-23T18:02:03.216365Z"
    },
    "papermill": {
     "duration": 0.015023,
     "end_time": "2020-08-23T18:02:03.216522",
     "exception": false,
     "start_time": "2020-08-23T18:02:03.201499",
     "status": "completed"
    },
    "tags": []
   },
   "outputs": [
    {
     "data": {
      "text/plain": [
       "Index(['User ID', 'Gender', 'Age', 'EstimatedSalary', 'Purchased'], dtype='object')"
      ]
     },
     "execution_count": 5,
     "metadata": {},
     "output_type": "execute_result"
    }
   ],
   "source": [
    "df.columns"
   ]
  },
  {
   "cell_type": "code",
   "execution_count": 6,
   "metadata": {
    "execution": {
     "iopub.execute_input": "2020-08-23T18:02:03.239699Z",
     "iopub.status.busy": "2020-08-23T18:02:03.238890Z",
     "iopub.status.idle": "2020-08-23T18:02:03.241671Z",
     "shell.execute_reply": "2020-08-23T18:02:03.241017Z"
    },
    "papermill": {
     "duration": 0.018791,
     "end_time": "2020-08-23T18:02:03.241786",
     "exception": false,
     "start_time": "2020-08-23T18:02:03.222995",
     "status": "completed"
    },
    "tags": []
   },
   "outputs": [],
   "source": [
    "df.drop(columns=['User ID', 'Gender'],axis=1,inplace=True)"
   ]
  },
  {
   "cell_type": "code",
   "execution_count": 7,
   "metadata": {
    "execution": {
     "iopub.execute_input": "2020-08-23T18:02:03.261397Z",
     "iopub.status.busy": "2020-08-23T18:02:03.260453Z",
     "iopub.status.idle": "2020-08-23T18:02:03.263403Z",
     "shell.execute_reply": "2020-08-23T18:02:03.262772Z"
    },
    "papermill": {
     "duration": 0.014911,
     "end_time": "2020-08-23T18:02:03.263518",
     "exception": false,
     "start_time": "2020-08-23T18:02:03.248607",
     "status": "completed"
    },
    "tags": []
   },
   "outputs": [],
   "source": [
    "X = df.iloc[:,:-1].values\n",
    "y = df.iloc[:,-1].values"
   ]
  },
  {
   "cell_type": "code",
   "execution_count": 8,
   "metadata": {
    "execution": {
     "iopub.execute_input": "2020-08-23T18:02:03.282437Z",
     "iopub.status.busy": "2020-08-23T18:02:03.281691Z",
     "iopub.status.idle": "2020-08-23T18:02:03.286336Z",
     "shell.execute_reply": "2020-08-23T18:02:03.285684Z"
    },
    "papermill": {
     "duration": 0.016219,
     "end_time": "2020-08-23T18:02:03.286454",
     "exception": false,
     "start_time": "2020-08-23T18:02:03.270235",
     "status": "completed"
    },
    "tags": []
   },
   "outputs": [
    {
     "data": {
      "text/plain": [
       "array([[    19,  19000],\n",
       "       [    35,  20000],\n",
       "       [    26,  43000],\n",
       "       [    27,  57000],\n",
       "       [    19,  76000],\n",
       "       [    27,  58000],\n",
       "       [    27,  84000],\n",
       "       [    32, 150000],\n",
       "       [    25,  33000],\n",
       "       [    35,  65000]])"
      ]
     },
     "execution_count": 8,
     "metadata": {},
     "output_type": "execute_result"
    }
   ],
   "source": [
    "X[:10]"
   ]
  },
  {
   "cell_type": "code",
   "execution_count": 9,
   "metadata": {
    "execution": {
     "iopub.execute_input": "2020-08-23T18:02:03.306328Z",
     "iopub.status.busy": "2020-08-23T18:02:03.305354Z",
     "iopub.status.idle": "2020-08-23T18:02:03.309342Z",
     "shell.execute_reply": "2020-08-23T18:02:03.308812Z"
    },
    "papermill": {
     "duration": 0.015957,
     "end_time": "2020-08-23T18:02:03.309463",
     "exception": false,
     "start_time": "2020-08-23T18:02:03.293506",
     "status": "completed"
    },
    "tags": []
   },
   "outputs": [
    {
     "data": {
      "text/plain": [
       "array([0, 0, 0, 0, 0, 0, 0, 1, 0, 0])"
      ]
     },
     "execution_count": 9,
     "metadata": {},
     "output_type": "execute_result"
    }
   ],
   "source": [
    "y[:10]"
   ]
  },
  {
   "cell_type": "code",
   "execution_count": 10,
   "metadata": {
    "execution": {
     "iopub.execute_input": "2020-08-23T18:02:03.328124Z",
     "iopub.status.busy": "2020-08-23T18:02:03.327536Z",
     "iopub.status.idle": "2020-08-23T18:02:03.330686Z",
     "shell.execute_reply": "2020-08-23T18:02:03.330025Z"
    },
    "papermill": {
     "duration": 0.014347,
     "end_time": "2020-08-23T18:02:03.330797",
     "exception": false,
     "start_time": "2020-08-23T18:02:03.316450",
     "status": "completed"
    },
    "tags": []
   },
   "outputs": [],
   "source": [
    "y = y.reshape(len(y),1)"
   ]
  },
  {
   "cell_type": "code",
   "execution_count": 11,
   "metadata": {
    "execution": {
     "iopub.execute_input": "2020-08-23T18:02:03.351000Z",
     "iopub.status.busy": "2020-08-23T18:02:03.350036Z",
     "iopub.status.idle": "2020-08-23T18:02:03.354551Z",
     "shell.execute_reply": "2020-08-23T18:02:03.353888Z"
    },
    "papermill": {
     "duration": 0.016882,
     "end_time": "2020-08-23T18:02:03.354672",
     "exception": false,
     "start_time": "2020-08-23T18:02:03.337790",
     "status": "completed"
    },
    "tags": []
   },
   "outputs": [
    {
     "data": {
      "text/plain": [
       "array([[0],\n",
       "       [0],\n",
       "       [0],\n",
       "       [0],\n",
       "       [0],\n",
       "       [0],\n",
       "       [0],\n",
       "       [1],\n",
       "       [0],\n",
       "       [0]])"
      ]
     },
     "execution_count": 11,
     "metadata": {},
     "output_type": "execute_result"
    }
   ],
   "source": [
    "y[:10]"
   ]
  },
  {
   "cell_type": "markdown",
   "execution_count": null,
   "metadata": {
    "papermill": {
     "duration": 0.006657,
     "end_time": "2020-08-23T18:02:03.368344",
     "exception": false,
     "start_time": "2020-08-23T18:02:03.361687",
     "status": "completed"
    },
    "tags": []
   },
   "source": [
    "## Splitting the dataset into the Training set and Test set"
   ]
  },
  {
   "cell_type": "code",
   "execution_count": 12,
   "metadata": {
    "execution": {
     "iopub.execute_input": "2020-08-23T18:02:03.389136Z",
     "iopub.status.busy": "2020-08-23T18:02:03.388427Z",
     "iopub.status.idle": "2020-08-23T18:02:03.391676Z",
     "shell.execute_reply": "2020-08-23T18:02:03.391038Z"
    },
    "papermill": {
     "duration": 0.016416,
     "end_time": "2020-08-23T18:02:03.391786",
     "exception": false,
     "start_time": "2020-08-23T18:02:03.375370",
     "status": "completed"
    },
    "tags": []
   },
   "outputs": [],
   "source": [
    "X_train, X_test, y_train, y_test = train_test_split(X, y, test_size = 0.25, random_state = 0)"
   ]
  },
  {
   "cell_type": "markdown",
   "execution_count": null,
   "metadata": {
    "papermill": {
     "duration": 0.007177,
     "end_time": "2020-08-23T18:02:03.406171",
     "exception": false,
     "start_time": "2020-08-23T18:02:03.398994",
     "status": "completed"
    },
    "tags": []
   },
   "source": [
    "## Feature Scaling"
   ]
  },
  {
   "cell_type": "code",
   "execution_count": 13,
   "metadata": {
    "execution": {
     "iopub.execute_input": "2020-08-23T18:02:03.425544Z",
     "iopub.status.busy": "2020-08-23T18:02:03.424918Z",
     "iopub.status.idle": "2020-08-23T18:02:03.429478Z",
     "shell.execute_reply": "2020-08-23T18:02:03.428835Z"
    },
    "papermill": {
     "duration": 0.016123,
     "end_time": "2020-08-23T18:02:03.429590",
     "exception": false,
     "start_time": "2020-08-23T18:02:03.413467",
     "status": "completed"
    },
    "tags": []
   },
   "outputs": [],
   "source": [
    "sc = StandardScaler()\n",
    "X_train = sc.fit_transform(X_train)\n",
    "X_test = sc.transform(X_test)"
   ]
  },
  {
   "cell_type": "markdown",
   "execution_count": null,
   "metadata": {
    "papermill": {
     "duration": 0.006764,
     "end_time": "2020-08-23T18:02:03.443486",
     "exception": false,
     "start_time": "2020-08-23T18:02:03.436722",
     "status": "completed"
    },
    "tags": []
   },
   "source": [
    "## Training the Kernel SVM model on the Training set"
   ]
  },
  {
   "cell_type": "code",
   "execution_count": 14,
   "metadata": {
    "execution": {
     "iopub.execute_input": "2020-08-23T18:02:03.463596Z",
     "iopub.status.busy": "2020-08-23T18:02:03.462921Z",
     "iopub.status.idle": "2020-08-23T18:02:03.476341Z",
     "shell.execute_reply": "2020-08-23T18:02:03.475791Z"
    },
    "papermill": {
     "duration": 0.025947,
     "end_time": "2020-08-23T18:02:03.476461",
     "exception": false,
     "start_time": "2020-08-23T18:02:03.450514",
     "status": "completed"
    },
    "tags": []
   },
   "outputs": [
    {
     "name": "stderr",
     "output_type": "stream",
     "text": [
      "/opt/conda/lib/python3.7/site-packages/sklearn/utils/validation.py:72: DataConversionWarning: A column-vector y was passed when a 1d array was expected. Please change the shape of y to (n_samples, ), for example using ravel().\n",
      "  return f(**kwargs)\n"
     ]
    },
    {
     "data": {
      "text/plain": [
       "SVC(random_state=0)"
      ]
     },
     "execution_count": 14,
     "metadata": {},
     "output_type": "execute_result"
    }
   ],
   "source": [
    "classifier = SVC(kernel = 'rbf', random_state = 0)\n",
    "classifier.fit(X_train, y_train)"
   ]
  },
  {
   "cell_type": "markdown",
   "execution_count": null,
   "metadata": {
    "papermill": {
     "duration": 0.007102,
     "end_time": "2020-08-23T18:02:03.491055",
     "exception": false,
     "start_time": "2020-08-23T18:02:03.483953",
     "status": "completed"
    },
    "tags": []
   },
   "source": [
    "## Making the Confusion Matrix"
   ]
  },
  {
   "cell_type": "code",
   "execution_count": 15,
   "metadata": {
    "execution": {
     "iopub.execute_input": "2020-08-23T18:02:03.512724Z",
     "iopub.status.busy": "2020-08-23T18:02:03.512062Z",
     "iopub.status.idle": "2020-08-23T18:02:03.521379Z",
     "shell.execute_reply": "2020-08-23T18:02:03.520706Z"
    },
    "papermill": {
     "duration": 0.022176,
     "end_time": "2020-08-23T18:02:03.521503",
     "exception": false,
     "start_time": "2020-08-23T18:02:03.499327",
     "status": "completed"
    },
    "tags": []
   },
   "outputs": [
    {
     "name": "stdout",
     "output_type": "stream",
     "text": [
      "[[64  4]\n",
      " [ 3 29]]\n"
     ]
    },
    {
     "data": {
      "text/plain": [
       "0.93"
      ]
     },
     "execution_count": 15,
     "metadata": {},
     "output_type": "execute_result"
    }
   ],
   "source": [
    "y_pred = classifier.predict(X_test)\n",
    "cm = confusion_matrix(y_test, y_pred)\n",
    "print(cm)\n",
    "accuracy_score(y_test, y_pred)"
   ]
  },
  {
   "cell_type": "markdown",
   "execution_count": null,
   "metadata": {
    "papermill": {
     "duration": 0.007319,
     "end_time": "2020-08-23T18:02:03.536436",
     "exception": false,
     "start_time": "2020-08-23T18:02:03.529117",
     "status": "completed"
    },
    "tags": []
   },
   "source": [
    "## Applying k-Fold Cross Validation"
   ]
  },
  {
   "cell_type": "code",
   "execution_count": 16,
   "metadata": {
    "execution": {
     "iopub.execute_input": "2020-08-23T18:02:03.559467Z",
     "iopub.status.busy": "2020-08-23T18:02:03.558819Z",
     "iopub.status.idle": "2020-08-23T18:02:03.599616Z",
     "shell.execute_reply": "2020-08-23T18:02:03.600178Z"
    },
    "papermill": {
     "duration": 0.055787,
     "end_time": "2020-08-23T18:02:03.600333",
     "exception": false,
     "start_time": "2020-08-23T18:02:03.544546",
     "status": "completed"
    },
    "tags": []
   },
   "outputs": [
    {
     "name": "stdout",
     "output_type": "stream",
     "text": [
      "Accuracy: 90.33 %\n",
      "Standard Deviation: 6.57 %\n"
     ]
    },
    {
     "name": "stderr",
     "output_type": "stream",
     "text": [
      "/opt/conda/lib/python3.7/site-packages/sklearn/utils/validation.py:72: DataConversionWarning: A column-vector y was passed when a 1d array was expected. Please change the shape of y to (n_samples, ), for example using ravel().\n",
      "  return f(**kwargs)\n",
      "/opt/conda/lib/python3.7/site-packages/sklearn/utils/validation.py:72: DataConversionWarning: A column-vector y was passed when a 1d array was expected. Please change the shape of y to (n_samples, ), for example using ravel().\n",
      "  return f(**kwargs)\n",
      "/opt/conda/lib/python3.7/site-packages/sklearn/utils/validation.py:72: DataConversionWarning: A column-vector y was passed when a 1d array was expected. Please change the shape of y to (n_samples, ), for example using ravel().\n",
      "  return f(**kwargs)\n",
      "/opt/conda/lib/python3.7/site-packages/sklearn/utils/validation.py:72: DataConversionWarning: A column-vector y was passed when a 1d array was expected. Please change the shape of y to (n_samples, ), for example using ravel().\n",
      "  return f(**kwargs)\n",
      "/opt/conda/lib/python3.7/site-packages/sklearn/utils/validation.py:72: DataConversionWarning: A column-vector y was passed when a 1d array was expected. Please change the shape of y to (n_samples, ), for example using ravel().\n",
      "  return f(**kwargs)\n",
      "/opt/conda/lib/python3.7/site-packages/sklearn/utils/validation.py:72: DataConversionWarning: A column-vector y was passed when a 1d array was expected. Please change the shape of y to (n_samples, ), for example using ravel().\n",
      "  return f(**kwargs)\n",
      "/opt/conda/lib/python3.7/site-packages/sklearn/utils/validation.py:72: DataConversionWarning: A column-vector y was passed when a 1d array was expected. Please change the shape of y to (n_samples, ), for example using ravel().\n",
      "  return f(**kwargs)\n",
      "/opt/conda/lib/python3.7/site-packages/sklearn/utils/validation.py:72: DataConversionWarning: A column-vector y was passed when a 1d array was expected. Please change the shape of y to (n_samples, ), for example using ravel().\n",
      "  return f(**kwargs)\n",
      "/opt/conda/lib/python3.7/site-packages/sklearn/utils/validation.py:72: DataConversionWarning: A column-vector y was passed when a 1d array was expected. Please change the shape of y to (n_samples, ), for example using ravel().\n",
      "  return f(**kwargs)\n",
      "/opt/conda/lib/python3.7/site-packages/sklearn/utils/validation.py:72: DataConversionWarning: A column-vector y was passed when a 1d array was expected. Please change the shape of y to (n_samples, ), for example using ravel().\n",
      "  return f(**kwargs)\n"
     ]
    }
   ],
   "source": [
    "accuracies = cross_val_score(estimator = classifier, X = X_train, y = y_train, cv = 10)\n",
    "print(\"Accuracy: {:.2f} %\".format(accuracies.mean()*100))\n",
    "print(\"Standard Deviation: {:.2f} %\".format(accuracies.std()*100))"
   ]
  },
  {
   "cell_type": "markdown",
   "execution_count": null,
   "metadata": {
    "papermill": {
     "duration": 0.007374,
     "end_time": "2020-08-23T18:02:03.615676",
     "exception": false,
     "start_time": "2020-08-23T18:02:03.608302",
     "status": "completed"
    },
    "tags": []
   },
   "source": [
    "## Applying Grid Search to find the best model and the best parameters"
   ]
  },
  {
   "cell_type": "code",
   "execution_count": 17,
   "metadata": {
    "execution": {
     "iopub.execute_input": "2020-08-23T18:02:03.641016Z",
     "iopub.status.busy": "2020-08-23T18:02:03.640373Z",
     "iopub.status.idle": "2020-08-23T18:02:05.850511Z",
     "shell.execute_reply": "2020-08-23T18:02:05.849614Z"
    },
    "papermill": {
     "duration": 2.227163,
     "end_time": "2020-08-23T18:02:05.850761",
     "exception": false,
     "start_time": "2020-08-23T18:02:03.623598",
     "status": "completed"
    },
    "tags": []
   },
   "outputs": [
    {
     "name": "stdout",
     "output_type": "stream",
     "text": [
      "Best Accuracy: 90.67 %\n",
      "Best Parameters: {'C': 0.5, 'gamma': 0.6, 'kernel': 'rbf'}\n"
     ]
    },
    {
     "name": "stderr",
     "output_type": "stream",
     "text": [
      "/opt/conda/lib/python3.7/site-packages/sklearn/utils/validation.py:72: DataConversionWarning: A column-vector y was passed when a 1d array was expected. Please change the shape of y to (n_samples, ), for example using ravel().\n",
      "  return f(**kwargs)\n"
     ]
    }
   ],
   "source": [
    "parameters = [{'C': [0.25, 0.5, 0.75, 1], 'kernel': ['linear']},\n",
    "              {'C': [0.25, 0.5, 0.75, 1], 'kernel': ['rbf'], 'gamma': [0.1, 0.2, 0.3, 0.4, 0.5, 0.6, 0.7, 0.8, 0.9]}]\n",
    "grid_search = GridSearchCV(estimator = classifier,\n",
    "                           param_grid = parameters,\n",
    "                           scoring = 'accuracy',\n",
    "                           cv = 10,\n",
    "                           n_jobs = -1)\n",
    "grid_search.fit(X_train, y_train)\n",
    "best_accuracy = grid_search.best_score_\n",
    "best_parameters = grid_search.best_params_\n",
    "print(\"Best Accuracy: {:.2f} %\".format(best_accuracy*100))\n",
    "print(\"Best Parameters:\", best_parameters)"
   ]
  },
  {
   "cell_type": "code",
   "execution_count": null,
   "metadata": {
    "papermill": {
     "duration": 0.009827,
     "end_time": "2020-08-23T18:02:05.871658",
     "exception": false,
     "start_time": "2020-08-23T18:02:05.861831",
     "status": "completed"
    },
    "tags": []
   },
   "outputs": [],
   "source": []
  }
 ],
 "metadata": {
  "kernelspec": {
   "display_name": "Python 3",
   "language": "python",
   "name": "python3"
  },
  "language_info": {
   "codemirror_mode": {
    "name": "ipython",
    "version": 3
   },
   "file_extension": ".py",
   "mimetype": "text/x-python",
   "name": "python",
   "nbconvert_exporter": "python",
   "pygments_lexer": "ipython3",
   "version": "3.7.6"
  },
  "papermill": {
   "duration": 8.890243,
   "end_time": "2020-08-23T18:02:06.000121",
   "environment_variables": {},
   "exception": null,
   "input_path": "__notebook__.ipynb",
   "output_path": "__notebook__.ipynb",
   "parameters": {},
   "start_time": "2020-08-23T18:01:57.109878",
   "version": "2.1.0"
  }
 },
 "nbformat": 4,
 "nbformat_minor": 4
}
